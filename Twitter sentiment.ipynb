{
 "cells": [
  {
   "cell_type": "code",
   "execution_count": 13,
   "id": "98b11fee",
   "metadata": {},
   "outputs": [],
   "source": [
    "import pandas as pd\n"
   ]
  },
  {
   "cell_type": "code",
   "execution_count": null,
   "id": "60e6baae",
   "metadata": {},
   "outputs": [],
   "source": [
    "twitter_file = pd.read_csv(\"https://uom-twitter-sentiment-analysis.s3.us-east-2.amazonaws.com/training.1600000.processed.noemoticon.csv\",  encoding='latin-1', header = None)\n",
    "twitter_file = twitter_file.drop(twitter_file.iloc[:, 1:5],axis = 1)\n",
    "twitter_file"
   ]
  },
  {
   "cell_type": "code",
   "execution_count": null,
   "id": "119d4e04",
   "metadata": {},
   "outputs": [],
   "source": [
    "twitter_file = twitter_file.rename(columns = {0: \"target\", 5:\"text\"})\n",
    "twitter_file = twitter_file.replace([4], 1)\n",
    "twitter_file"
   ]
  },
  {
   "cell_type": "code",
   "execution_count": null,
   "id": "6a68c107",
   "metadata": {},
   "outputs": [],
   "source": [
    "twitter_file.text.str.contains('http')\n",
    "twitter_file['text'] = twitter_file['text'].str.replace(r'http\\S+', '')\n"
   ]
  },
  {
   "cell_type": "code",
   "execution_count": null,
   "id": "24c5ec93",
   "metadata": {},
   "outputs": [],
   "source": [
    "twitter_file.text.str.contains(\"http\").value_counts()"
   ]
  },
  {
   "cell_type": "code",
   "execution_count": null,
   "id": "cfec2f5d",
   "metadata": {},
   "outputs": [],
   "source": [
    "from sklearn.utils import shuffle\n",
    "twitter_file = shuffle(twitter_file, random_state = 42) "
   ]
  },
  {
   "cell_type": "code",
   "execution_count": null,
   "id": "205dccc2",
   "metadata": {},
   "outputs": [],
   "source": [
    "twitter_file = twitter_file.reset_index(drop=True)\n"
   ]
  },
  {
   "cell_type": "code",
   "execution_count": null,
   "id": "4ad14058",
   "metadata": {},
   "outputs": [],
   "source": [
    "twitter_file.to_csv('Resources/Twitter_sentiment_clean.csv', index=False)  "
   ]
  },
  {
   "cell_type": "code",
   "execution_count": null,
   "id": "e407de59",
   "metadata": {},
   "outputs": [],
   "source": []
  }
 ],
 "metadata": {
  "kernelspec": {
   "display_name": "Python 3 (ipykernel)",
   "language": "python",
   "name": "python3"
  },
  "language_info": {
   "codemirror_mode": {
    "name": "ipython",
    "version": 3
   },
   "file_extension": ".py",
   "mimetype": "text/x-python",
   "name": "python",
   "nbconvert_exporter": "python",
   "pygments_lexer": "ipython3",
   "version": "3.8.13"
  }
 },
 "nbformat": 4,
 "nbformat_minor": 5
}
